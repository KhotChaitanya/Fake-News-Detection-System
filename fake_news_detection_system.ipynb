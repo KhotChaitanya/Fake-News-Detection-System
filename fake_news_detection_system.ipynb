{
 "cells": [
  {
   "cell_type": "markdown",
   "metadata": {},
   "source": [
    "# Fake News Detection System: A Comparative Analysis of Classification Models\n",
    "\n",
    "## Overview\n",
    "\n",
    "This notebook documents the end-to-end process of building and comparing machine learning models to classify news articles as 'Real' or 'Fake'. The project begins with a baseline `LogisticRegression` model and then introduces a powerful `RandomForestClassifier` ensemble model to demonstrate significant performance improvement.\n",
    "\n",
    "### Workflow\n",
    "1.  **Setup & Installation**: Preparing the environment by installing libraries.\n",
    "2.  **Library Imports**: Importing all necessary libraries and initializing components.\n",
    "3.  **Data Loading & Preparation**: Loading the datasets from CSV and preparing the labels.\n",
    "4.  **Exploratory Data Analysis (EDA)**: Visualizing the class distribution to check for balance.\n",
    "5.  **Text Preprocessing**: Cleaning and standardizing the raw text data (stopword removal, stemming).\n",
    "6.  **Feature Engineering (TF-IDF)**: Converting the processed text into a numerical matrix.\n",
    "7.  **Model Training & Evaluation (Part A)**: Training and evaluating the baseline `LogisticRegression` model, with structured, dynamic explanations of the results.\n",
    "8.  **Model Training & Evaluation (Part B)**: Training and evaluating an advanced `RandomForestClassifier` model, with structured, dynamic explanations of the results.\n",
    "9.  **Model Comparison**: Visually and quantitatively comparing the models to select the best one, supported by a dynamic analysis.\n",
    "10. **Live Prediction with Best Model**: Dynamically selecting the superior model and demonstrating its utility with a real-time prediction function.\n",
    "11. **Final Conclusion**: Programmatically generating a summary of the project findings and final model choice."
   ]
  },
  {
   "cell_type": "markdown",
   "metadata": {},
   "source": [
    "### Step 1: Environment Setup\n",
    "\n",
    "This cell installs all required packages. The `ipywidgets` library is included to enable interactive elements like progress bars within the Jupyter environment.\n",
    "\n",
    "**Action Required**: After running this cell, **restart the kernel** (`Kernel` -> `Restart` in the menu) to ensure all libraries are loaded correctly."
   ]
  },
  {
   "cell_type": "code",
   "execution_count": 1,
   "metadata": {},
   "outputs": [
    {
     "name": "stdout",
     "output_type": "stream",
     "text": [
      "Requirement already satisfied: pandas in d:\\programming\\python\\lib\\site-packages (2.0.0)\n",
      "Requirement already satisfied: matplotlib in d:\\programming\\python\\lib\\site-packages (3.7.1)\n",
      "Requirement already satisfied: seaborn in d:\\programming\\python\\lib\\site-packages (0.13.2)\n",
      "Requirement already satisfied: nltk in d:\\programming\\python\\lib\\site-packages (3.9.1)\n",
      "Requirement already satisfied: scikit-learn in d:\\programming\\python\\lib\\site-packages (1.3.2)\n",
      "Requirement already satisfied: wordcloud in d:\\programming\\python\\lib\\site-packages (1.9.4)\n",
      "Requirement already satisfied: tqdm in d:\\programming\\python\\lib\\site-packages (4.65.0)\n",
      "Requirement already satisfied: ipywidgets in d:\\programming\\python\\lib\\site-packages (8.1.7)\n",
      "Requirement already satisfied: python-dateutil>=2.8.2 in d:\\programming\\python\\lib\\site-packages (from pandas) (2.8.2)\n",
      "Requirement already satisfied: pytz>=2020.1 in d:\\programming\\python\\lib\\site-packages (from pandas) (2023.3)\n",
      "Requirement already satisfied: tzdata>=2022.1 in d:\\programming\\python\\lib\\site-packages (from pandas) (2023.3)\n",
      "Requirement already satisfied: numpy>=1.21.0 in d:\\programming\\python\\lib\\site-packages (from pandas) (1.24.2)\n",
      "Requirement already satisfied: contourpy>=1.0.1 in d:\\programming\\python\\lib\\site-packages (from matplotlib) (1.0.7)\n",
      "Requirement already satisfied: cycler>=0.10 in d:\\programming\\python\\lib\\site-packages (from matplotlib) (0.11.0)\n",
      "Requirement already satisfied: fonttools>=4.22.0 in d:\\programming\\python\\lib\\site-packages (from matplotlib) (4.39.3)\n",
      "Requirement already satisfied: kiwisolver>=1.0.1 in d:\\programming\\python\\lib\\site-packages (from matplotlib) (1.4.4)\n",
      "Requirement already satisfied: packaging>=20.0 in d:\\programming\\python\\lib\\site-packages (from matplotlib) (23.0)\n",
      "Requirement already satisfied: pillow>=6.2.0 in d:\\programming\\python\\lib\\site-packages (from matplotlib) (9.5.0)\n",
      "Requirement already satisfied: pyparsing>=2.3.1 in d:\\programming\\python\\lib\\site-packages (from matplotlib) (3.0.9)\n",
      "Requirement already satisfied: click in d:\\programming\\python\\lib\\site-packages (from nltk) (8.1.3)\n",
      "Requirement already satisfied: joblib in d:\\programming\\python\\lib\\site-packages (from nltk) (1.3.2)\n",
      "Requirement already satisfied: regex>=2021.8.3 in d:\\programming\\python\\lib\\site-packages (from nltk) (2024.11.6)\n",
      "Requirement already satisfied: scipy>=1.5.0 in d:\\programming\\python\\lib\\site-packages (from scikit-learn) (1.11.3)\n",
      "Requirement already satisfied: threadpoolctl>=2.0.0 in d:\\programming\\python\\lib\\site-packages (from scikit-learn) (3.2.0)\n",
      "Requirement already satisfied: colorama in d:\\programming\\python\\lib\\site-packages (from tqdm) (0.4.6)\n",
      "Requirement already satisfied: comm>=0.1.3 in d:\\programming\\python\\lib\\site-packages (from ipywidgets) (0.1.3)\n",
      "Requirement already satisfied: ipython>=6.1.0 in d:\\programming\\python\\lib\\site-packages (from ipywidgets) (8.11.0)\n",
      "Requirement already satisfied: traitlets>=4.3.1 in d:\\programming\\python\\lib\\site-packages (from ipywidgets) (5.9.0)\n",
      "Requirement already satisfied: widgetsnbextension~=4.0.14 in d:\\programming\\python\\lib\\site-packages (from ipywidgets) (4.0.14)\n",
      "Requirement already satisfied: jupyterlab_widgets~=3.0.15 in d:\\programming\\python\\lib\\site-packages (from ipywidgets) (3.0.15)\n",
      "Requirement already satisfied: backcall in d:\\programming\\python\\lib\\site-packages (from ipython>=6.1.0->ipywidgets) (0.2.0)\n",
      "Requirement already satisfied: decorator in d:\\programming\\python\\lib\\site-packages (from ipython>=6.1.0->ipywidgets) (5.1.1)\n",
      "Requirement already satisfied: jedi>=0.16 in d:\\programming\\python\\lib\\site-packages (from ipython>=6.1.0->ipywidgets) (0.18.2)\n",
      "Requirement already satisfied: matplotlib-inline in d:\\programming\\python\\lib\\site-packages (from ipython>=6.1.0->ipywidgets) (0.1.6)\n",
      "Requirement already satisfied: pickleshare in d:\\programming\\python\\lib\\site-packages (from ipython>=6.1.0->ipywidgets) (0.7.5)\n",
      "Requirement already satisfied: prompt-toolkit!=3.0.37,<3.1.0,>=3.0.30 in d:\\programming\\python\\lib\\site-packages (from ipython>=6.1.0->ipywidgets) (3.0.38)\n",
      "Requirement already satisfied: pygments>=2.4.0 in d:\\programming\\python\\lib\\site-packages (from ipython>=6.1.0->ipywidgets) (2.14.0)\n",
      "Requirement already satisfied: stack-data in d:\\programming\\python\\lib\\site-packages (from ipython>=6.1.0->ipywidgets) (0.6.2)\n",
      "Requirement already satisfied: six>=1.5 in d:\\programming\\python\\lib\\site-packages (from python-dateutil>=2.8.2->pandas) (1.16.0)\n",
      "Requirement already satisfied: parso<0.9.0,>=0.8.0 in d:\\programming\\python\\lib\\site-packages (from jedi>=0.16->ipython>=6.1.0->ipywidgets) (0.8.3)\n",
      "Requirement already satisfied: wcwidth in d:\\programming\\python\\lib\\site-packages (from prompt-toolkit!=3.0.37,<3.1.0,>=3.0.30->ipython>=6.1.0->ipywidgets) (0.2.6)\n",
      "Requirement already satisfied: executing>=1.2.0 in d:\\programming\\python\\lib\\site-packages (from stack-data->ipython>=6.1.0->ipywidgets) (1.2.0)\n",
      "Requirement already satisfied: asttokens>=2.1.0 in d:\\programming\\python\\lib\\site-packages (from stack-data->ipython>=6.1.0->ipywidgets) (2.2.1)\n",
      "Requirement already satisfied: pure-eval in d:\\programming\\python\\lib\\site-packages (from stack-data->ipython>=6.1.0->ipywidgets) (0.2.2)\n"
     ]
    },
    {
     "name": "stderr",
     "output_type": "stream",
     "text": [
      "\n",
      "[notice] A new release of pip is available: 23.3.2 -> 25.1.1\n",
      "[notice] To update, run: D:\\Programming\\Python\\python.exe -m pip install --upgrade pip\n",
      "Enabling notebook extension jupyter-js-widgets/extension...\n",
      "      - Validating: ok\n"
     ]
    }
   ],
   "source": [
    "# Install all necessary packages, including ipywidgets for the progress bar\n",
    "import sys\n",
    "!{sys.executable} -m pip install pandas matplotlib seaborn nltk scikit-learn wordcloud tqdm ipywidgets\n",
    "\n",
    "# Enable the ipywidgets extension for Jupyter Notebook\n",
    "!jupyter nbextension enable --py widgetsnbextension"
   ]
  },
  {
   "cell_type": "markdown",
   "metadata": {},
   "source": [
    "### Step 2: Importing Libraries and Initializing Components"
   ]
  },
  {
   "cell_type": "code",
   "execution_count": 2,
   "metadata": {},
   "outputs": [],
   "source": [
    "import pandas as pd\n",
    "import re\n",
    "import matplotlib.pyplot as plt\n",
    "import seaborn as sns\n",
    "import nltk\n",
    "from nltk.corpus import stopwords\n",
    "from nltk.stem.porter import PorterStemmer\n",
    "from sklearn.feature_extraction.text import TfidfVectorizer\n",
    "from sklearn.model_selection import train_test_split\n",
    "# --- Importing classifiers for comparison ---\n",
    "from sklearn.linear_model import LogisticRegression\n",
    "from sklearn.ensemble import RandomForestClassifier\n",
    "from sklearn.metrics import accuracy_score, confusion_matrix, classification_report, precision_recall_fscore_support\n",
    "from wordcloud import WordCloud\n",
    "import warnings\n",
    "from tqdm.notebook import tqdm\n",
    "import numpy as np\n",
    "from IPython.display import display, HTML\n",
    "\n",
    "# Initialize tqdm for pandas to enable progress bars on .apply() methods\n",
    "tqdm.pandas(desc=\"Processing Text\")\n",
    "\n",
    "# Suppress unnecessary warnings for a cleaner output\n",
    "warnings.filterwarnings('ignore')\n",
    "\n",
    "# Download the NLTK stopwords list if not already present\n",
    "try:\n",
    "    stopwords.words('english')\n",
    "except LookupError:\n",
    "    print(\"Downloading NLTK stopwords...\")\n",
    "    nltk.download('stopwords')\n",
    "    print(\"Download complete.\")"
   ]
  },
  {
   "cell_type": "markdown",
   "metadata": {},
   "source": [
    "### Step 3: Data Loading and Preparation\n",
    "\n",
    "This function loads the two original datasets (`true.csv` and `fake.csv`). This is a critical change to ensure the models have meaningful, real-world text to learn from, which is necessary for achieving high accuracy. The datasets are labeled (0 for Real, 1 for Fake) and combined into a single, shuffled DataFrame."
   ]
  },
  {
   "cell_type": "code",
   "execution_count": 3,
   "metadata": {},
   "outputs": [
    {
     "name": "stdout",
     "output_type": "stream",
     "text": [
      "Loading true news from D:/Programming/SelfPace/Internship/MLOps/Task7/dataset/true.csv...\n",
      "Loading fake news from D:/Programming/SelfPace/Internship/MLOps/Task7/dataset/fake.csv...\n",
      "\n",
      "Data loaded and prepared successfully!\n"
     ]
    },
    {
     "data": {
      "text/html": [
       "<div>\n",
       "<style scoped>\n",
       "    .dataframe tbody tr th:only-of-type {\n",
       "        vertical-align: middle;\n",
       "    }\n",
       "\n",
       "    .dataframe tbody tr th {\n",
       "        vertical-align: top;\n",
       "    }\n",
       "\n",
       "    .dataframe thead th {\n",
       "        text-align: right;\n",
       "    }\n",
       "</style>\n",
       "<table border=\"1\" class=\"dataframe\">\n",
       "  <thead>\n",
       "    <tr style=\"text-align: right;\">\n",
       "      <th></th>\n",
       "      <th>title</th>\n",
       "      <th>text</th>\n",
       "      <th>subject</th>\n",
       "      <th>date</th>\n",
       "      <th>label</th>\n",
       "    </tr>\n",
       "  </thead>\n",
       "  <tbody>\n",
       "    <tr>\n",
       "      <th>0</th>\n",
       "      <td>BREAKING: GOP Chairman Grassley Has Had Enoug...</td>\n",
       "      <td>Donald Trump s White House is in chaos, and th...</td>\n",
       "      <td>News</td>\n",
       "      <td>July 21, 2017</td>\n",
       "      <td>1</td>\n",
       "    </tr>\n",
       "    <tr>\n",
       "      <th>1</th>\n",
       "      <td>Failed GOP Candidates Remembered In Hilarious...</td>\n",
       "      <td>Now that Donald Trump is the presumptive GOP n...</td>\n",
       "      <td>News</td>\n",
       "      <td>May 7, 2016</td>\n",
       "      <td>1</td>\n",
       "    </tr>\n",
       "    <tr>\n",
       "      <th>2</th>\n",
       "      <td>Mike Pence’s New DC Neighbors Are HILARIOUSLY...</td>\n",
       "      <td>Mike Pence is a huge homophobe. He supports ex...</td>\n",
       "      <td>News</td>\n",
       "      <td>December 3, 2016</td>\n",
       "      <td>1</td>\n",
       "    </tr>\n",
       "    <tr>\n",
       "      <th>3</th>\n",
       "      <td>California AG pledges to defend birth control ...</td>\n",
       "      <td>SAN FRANCISCO (Reuters) - California Attorney ...</td>\n",
       "      <td>politicsNews</td>\n",
       "      <td>October 6, 2017</td>\n",
       "      <td>0</td>\n",
       "    </tr>\n",
       "    <tr>\n",
       "      <th>4</th>\n",
       "      <td>AZ RANCHERS Living On US-Mexico Border Destroy...</td>\n",
       "      <td>Twisted reasoning is all that comes from Pelos...</td>\n",
       "      <td>politics</td>\n",
       "      <td>Apr 25, 2017</td>\n",
       "      <td>1</td>\n",
       "    </tr>\n",
       "  </tbody>\n",
       "</table>\n",
       "</div>"
      ],
      "text/plain": [
       "                                               title   \n",
       "0   BREAKING: GOP Chairman Grassley Has Had Enoug...  \\\n",
       "1   Failed GOP Candidates Remembered In Hilarious...   \n",
       "2   Mike Pence’s New DC Neighbors Are HILARIOUSLY...   \n",
       "3  California AG pledges to defend birth control ...   \n",
       "4  AZ RANCHERS Living On US-Mexico Border Destroy...   \n",
       "\n",
       "                                                text       subject   \n",
       "0  Donald Trump s White House is in chaos, and th...          News  \\\n",
       "1  Now that Donald Trump is the presumptive GOP n...          News   \n",
       "2  Mike Pence is a huge homophobe. He supports ex...          News   \n",
       "3  SAN FRANCISCO (Reuters) - California Attorney ...  politicsNews   \n",
       "4  Twisted reasoning is all that comes from Pelos...      politics   \n",
       "\n",
       "               date  label  \n",
       "0     July 21, 2017      1  \n",
       "1       May 7, 2016      1  \n",
       "2  December 3, 2016      1  \n",
       "3  October 6, 2017       0  \n",
       "4      Apr 25, 2017      1  "
      ]
     },
     "metadata": {},
     "output_type": "display_data"
    },
    {
     "name": "stdout",
     "output_type": "stream",
     "text": [
      "\n",
      "Dataset Information:\n",
      "<class 'pandas.core.frame.DataFrame'>\n",
      "RangeIndex: 44898 entries, 0 to 44897\n",
      "Data columns (total 5 columns):\n",
      " #   Column   Non-Null Count  Dtype \n",
      "---  ------   --------------  ----- \n",
      " 0   title    44898 non-null  object\n",
      " 1   text     44898 non-null  object\n",
      " 2   subject  44898 non-null  object\n",
      " 3   date     44898 non-null  object\n",
      " 4   label    44898 non-null  int64 \n",
      "dtypes: int64(1), object(4)\n",
      "memory usage: 1.7+ MB\n"
     ]
    }
   ],
   "source": [
    "def load_and_prepare_data(true_path, fake_path):\n",
    "    \"\"\"Loads true and fake news datasets, labels them, and concatenates them.\"\"\"\n",
    "    try:\n",
    "        print(f\"Loading true news from {true_path}...\")\n",
    "        df_true = pd.read_csv(true_path)\n",
    "        df_true['label'] = 0\n",
    "        \n",
    "        print(f\"Loading fake news from {fake_path}...\")\n",
    "        df_fake = pd.read_csv(fake_path)\n",
    "        df_fake['label'] = 1\n",
    "        \n",
    "        # Combine the datasets\n",
    "        df = pd.concat([df_true, df_fake], ignore_index=True)\n",
    "        \n",
    "        # Shuffle the dataset to prevent any ordering bias\n",
    "        df = df.sample(frac=1, random_state=42).reset_index(drop=True)\n",
    "        return df\n",
    "    except FileNotFoundError as e:\n",
    "        print(f\"Error: {e}. Please make sure the CSV files are in the correct directory.\")\n",
    "        return None\n",
    "    except Exception as e:\n",
    "        print(f\"An error occurred: {e}\")\n",
    "        return None\n",
    "\n",
    "# --- Main Data Loading Execution ---\n",
    "true_csv_path = 'D:/Programming/SelfPace/Internship/MLOps/Task7/dataset/true.csv'\n",
    "fake_csv_path = 'D:/Programming/SelfPace/Internship/MLOps/Task7/dataset/fake.csv'\n",
    "news_df = load_and_prepare_data(true_csv_path, fake_csv_path)\n",
    "\n",
    "if news_df is not None:\n",
    "    print(\"\\nData loaded and prepared successfully!\")\n",
    "    display(news_df.head())\n",
    "    print(\"\\nDataset Information:\")\n",
    "    news_df.info()"
   ]
  },
  {
   "cell_type": "markdown",
   "metadata": {},
   "source": [
    "### Step 4: Exploratory Data Analysis (EDA)\n",
    "\n",
    "A critical first step is to understand the distribution of the target variable. The following visualization checks whether the dataset is balanced between 'Real' and 'Fake' news articles."
   ]
  },
  {
   "cell_type": "code",
   "execution_count": 4,
   "metadata": {},
   "outputs": [
    {
     "data": {
      "image/png": "[encoded data removed]",
      "text/plain": [
       "<Figure size 800x600 with 1 Axes>"
      ]
     },
     "metadata": {},
     "output_type": "display_data"
    }
   ],
   "source": [
    "def plot_label_distribution(df):\n",
    "    \"\"\"Plots a bar chart showing the distribution of 'Real' vs 'Fake' news labels.\"\"\"\n",
    "    plt.style.use('seaborn-v0_8-whitegrid')\n",
    "    plt.figure(figsize=(8, 6))\n",
    "    sns.countplot(x='label', data=df, palette='viridis', hue='label', legend=False)\n",
    "    plt.title('Distribution of Real (0) vs. Fake (1) News', fontsize=16, weight='bold')\n",
    "    plt.xlabel('Label', fontsize=12)\n",
    "    plt.ylabel('Count', fontsize=12)\n",
    "    plt.xticks([0, 1], ['Real News', 'Fake News'], fontsize=12)\n",
    "    plt.show()\n",
    "\n",
    "if news_df is not None:\n",
    "    plot_label_distribution(news_df)"
   ]
  },
  {
   "cell_type": "markdown",
   "metadata": {},
   "source": [
    "### Step 5 & 6: Text Preprocessing & Feature Engineering\n",
    "\n",
    "This combined stage first cleans the text (lowercase, stopword removal, stemming) and then converts it into a numerical matrix using TF-IDF vectorization. This creates the feature set that our models will learn from."
   ]
  },
  {
   "cell_type": "code",
   "execution_count": 5,
   "metadata": {},
   "outputs": [
    {
     "name": "stdout",
     "output_type": "stream",
     "text": [
      "\n",
      "Preparing and preprocessing data...\n",
      "Applying text preprocessing sequentially...\n"
     ]
    },
    {
     "data": {
      "application/vnd.jupyter.widget-view+json": {
       "model_id": "9ca275d50d6e4a8b85b60ea0dba057ce",
       "version_major": 2,
       "version_minor": 0
      },
      "text/plain": [
       "Processing Text:   0%|          | 0/44898 [00:00<?, ?it/s]"
      ]
     },
     "metadata": {},
     "output_type": "display_data"
    },
    {
     "name": "stdout",
     "output_type": "stream",
     "text": [
      "\n",
      "Extracting features using TF-IDF...\n",
      "Shape of the feature matrix (X): (44898, 5000)\n"
     ]
    }
   ],
   "source": [
    "def preprocess_text(text):\n",
    "    \"\"\"Cleans and preprocesses a single piece of text.\"\"\"\n",
    "    port_stem = PorterStemmer()\n",
    "    stemmed_content = re.sub('[^a-zA-Z]', ' ', str(text))\n",
    "    stemmed_content = stemmed_content.lower().split()\n",
    "    stemmed_content = [port_stem.stem(word) for word in stemmed_content if not word in stopwords.words('english')]\n",
    "    return ' '.join(stemmed_content)\n",
    "\n",
    "def prepare_and_vectorize_data(df):\n",
    "    \"\"\"Prepares the dataframe and converts text to TF-IDF features.\"\"\"\n",
    "    print(\"\\nPreparing and preprocessing data...\")\n",
    "    df = df.fillna('')\n",
    "    df['content'] = df['title'] + ' ' + df['text']\n",
    "    \n",
    "    print(\"Applying text preprocessing sequentially...\")\n",
    "    df['processed_content'] = df['content'].progress_apply(preprocess_text)\n",
    "    \n",
    "    print(\"\\nExtracting features using TF-IDF...\")\n",
    "    X = df['processed_content']\n",
    "    Y = df['label']\n",
    "    vectorizer = TfidfVectorizer(max_features=5000)\n",
    "    X_transformed = vectorizer.fit_transform(X)\n",
    "    print(f\"Shape of the feature matrix (X): {X_transformed.shape}\")\n",
    "    \n",
    "    return X_transformed, Y, vectorizer\n",
    "\n",
    "if news_df is not None:\n",
    "    X, Y, tfidf_vectorizer = prepare_and_vectorize_data(news_df.copy())\n",
    "    # Splitting data for training and testing\n",
    "    X_train, X_test, Y_train, Y_test = train_test_split(X, Y, test_size=0.2, stratify=Y, random_state=42)"
   ]
  },
  {
   "cell_type": "markdown",
   "metadata": {},
   "source": [
    "### Step 7: Model Training & Evaluation (Part A - Logistic Regression)\n",
    "\n",
    "We begin with `LogisticRegression` as our baseline model. It is a standard, interpretable algorithm for binary classification tasks."
   ]
  },
  {
   "cell_type": "code",
   "execution_count": 6,
   "metadata": {},
   "outputs": [
    {
     "name": "stdout",
     "output_type": "stream",
     "text": [
      "--- Training Baseline Model: Logistic Regression ---\n",
      "Logistic Regression training complete.\n",
      "\n",
      "--- Evaluating Logistic Regression ---\n",
      "Model Accuracy: 98.78%\n",
      "\n",
      "Classification Report:\n",
      "              precision    recall  f1-score   support\n",
      "\n",
      "        Real       0.99      0.99      0.99      4284\n",
      "        Fake       0.99      0.99      0.99      4696\n",
      "\n",
      "    accuracy                           0.99      8980\n",
      "   macro avg       0.99      0.99      0.99      8980\n",
      "weighted avg       0.99      0.99      0.99      8980\n",
      "\n"
     ]
    },
    {
     "data": {
      "image/png": "[encoded data removed]",
      "text/plain": [
       "<Figure size 800x600 with 2 Axes>"
      ]
     },
     "metadata": {},
     "output_type": "display_data"
    },
    {
     "name": "stdout",
     "output_type": "stream",
     "text": [
      "Interpretation of Logistic Regression Results:\n"
     ]
    },
    {
     "data": {
      "text/html": [
       "<style type=\"text/css\">\n",
       "#T_10b47 th {\n",
       "  text-align: left;\n",
       "}\n",
       "#T_10b47_row0_col0, #T_10b47_row0_col1, #T_10b47_row1_col0, #T_10b47_row1_col1, #T_10b47_row2_col0, #T_10b47_row2_col1, #T_10b47_row3_col0, #T_10b47_row3_col1, #T_10b47_row4_col0, #T_10b47_row4_col1, #T_10b47_row5_col0, #T_10b47_row5_col1, #T_10b47_row6_col0, #T_10b47_row6_col1 {\n",
       "  text-align: left;\n",
       "}\n",
       "</style>\n",
       "<table id=\"T_10b47\">\n",
       "  <thead>\n",
       "    <tr>\n",
       "      <th id=\"T_10b47_level0_col0\" class=\"col_heading level0 col0\" >Metric</th>\n",
       "      <th id=\"T_10b47_level0_col1\" class=\"col_heading level0 col1\" >Description</th>\n",
       "    </tr>\n",
       "  </thead>\n",
       "  <tbody>\n",
       "    <tr>\n",
       "      <td id=\"T_10b47_row0_col0\" class=\"data row0 col0\" >Overall Accuracy</td>\n",
       "      <td id=\"T_10b47_row0_col1\" class=\"data row0 col1\" >The model correctly classified <b>98.78%</b> of all articles.</td>\n",
       "    </tr>\n",
       "    <tr>\n",
       "      <td id=\"T_10b47_row1_col0\" class=\"data row1 col0\" >True Negatives (TN)</td>\n",
       "      <td id=\"T_10b47_row1_col1\" class=\"data row1 col1\" >Correctly identified <b>4233</b> articles as 'Real'.</td>\n",
       "    </tr>\n",
       "    <tr>\n",
       "      <td id=\"T_10b47_row2_col0\" class=\"data row2 col0\" >True Positives (TP)</td>\n",
       "      <td id=\"T_10b47_row2_col1\" class=\"data row2 col1\" >Correctly identified <b>4637</b> articles as 'Fake'.</td>\n",
       "    </tr>\n",
       "    <tr>\n",
       "      <td id=\"T_10b47_row3_col0\" class=\"data row3 col0\" >False Positives (FP) - Type I Error</td>\n",
       "      <td id=\"T_10b47_row3_col1\" class=\"data row3 col1\" >Incorrectly labeled <b>51</b> 'Real' articles as 'Fake'.</td>\n",
       "    </tr>\n",
       "    <tr>\n",
       "      <td id=\"T_10b47_row4_col0\" class=\"data row4 col0\" >False Negatives (FN) - Type II Error</td>\n",
       "      <td id=\"T_10b47_row4_col1\" class=\"data row4 col1\" >Missed <b>59</b> 'Fake' articles, labeling them as 'Real'.</td>\n",
       "    </tr>\n",
       "    <tr>\n",
       "      <td id=\"T_10b47_row5_col0\" class=\"data row5 col0\" >Fake News Precision</td>\n",
       "      <td id=\"T_10b47_row5_col1\" class=\"data row5 col1\" >When the model predicts 'Fake', it is correct <b>98.91%</b> of the time.</td>\n",
       "    </tr>\n",
       "    <tr>\n",
       "      <td id=\"T_10b47_row6_col0\" class=\"data row6 col0\" >Fake News Recall</td>\n",
       "      <td id=\"T_10b47_row6_col1\" class=\"data row6 col1\" >The model found <b>98.74%</b> of all actual 'Fake' articles.</td>\n",
       "    </tr>\n",
       "  </tbody>\n",
       "</table>\n"
      ],
      "text/plain": [
       "<pandas.io.formats.style.Styler at 0x2d2265325d0>"
      ]
     },
     "metadata": {},
     "output_type": "display_data"
    }
   ],
   "source": [
    "# --- New function for visually appealing reports using pandas Styler ---\n",
    "def display_structured_report(y_true, y_pred, model_name):\n",
    "    \"\"\"Generates a dynamic, visually appealing HTML report of classification results.\"\"\"\n",
    "    cm = confusion_matrix(y_true, y_pred)\n",
    "    tn, fp, fn, tp = cm.ravel()\n",
    "    \n",
    "    report = classification_report(y_true, y_pred, target_names=['Real', 'Fake'], output_dict=True)\n",
    "    accuracy = report['accuracy']\n",
    "    fake_precision = report['Fake']['precision']\n",
    "    fake_recall = report['Fake']['recall']\n",
    "\n",
    "    # Create a DataFrame for structured display\n",
    "    report_data = {\n",
    "        'Metric': [\n",
    "            'Overall Accuracy',\n",
    "            'True Negatives (TN)', 'True Positives (TP)',\n",
    "            'False Positives (FP) - Type I Error',\n",
    "            'False Negatives (FN) - Type II Error',\n",
    "            'Fake News Precision',\n",
    "            'Fake News Recall'\n",
    "        ],\n",
    "        'Description': [\n",
    "            f'The model correctly classified <b>{accuracy:.2%}</b> of all articles.',\n",
    "            f'Correctly identified <b>{tn}</b> articles as \\'Real\\'.',\n",
    "            f'Correctly identified <b>{tp}</b> articles as \\'Fake\\'.',\n",
    "            f'Incorrectly labeled <b>{fp}</b> \\'Real\\' articles as \\'Fake\\'.',\n",
    "            f'Missed <b>{fn}</b> \\'Fake\\' articles, labeling them as \\'Real\\'.',\n",
    "            f'When the model predicts \\'Fake\\', it is correct <b>{fake_precision:.2%}</b> of the time.',\n",
    "            f'The model found <b>{fake_recall:.2%}</b> of all actual \\'Fake\\' articles.'\n",
    "        ]\n",
    "    }\n",
    "    report_df = pd.DataFrame(report_data)\n",
    "\n",
    "    # Style the DataFrame\n",
    "    styler = report_df.style.set_properties(**{'text-align': 'left'})\n",
    "    styler.set_table_styles([dict(selector='th', props=[('text-align', 'left')])])\n",
    "    styler.hide(axis='index')\n",
    "\n",
    "    print(f\"Interpretation of {model_name} Results:\")\n",
    "    display(styler)\n",
    "\n",
    "# --- Training and Evaluation ---\n",
    "print(\"--- Training Baseline Model: Logistic Regression ---\")\n",
    "lr_model = LogisticRegression(max_iter=1000, random_state=42)\n",
    "lr_model.fit(X_train, Y_train)\n",
    "print(\"Logistic Regression training complete.\")\n",
    "\n",
    "print(\"\\n--- Evaluating Logistic Regression ---\")\n",
    "Y_pred_lr = lr_model.predict(X_test)\n",
    "accuracy_lr = accuracy_score(Y_test, Y_pred_lr)\n",
    "print(f\"Model Accuracy: {accuracy_lr:.2%}\")\n",
    "\n",
    "print(\"\\nClassification Report:\")\n",
    "print(classification_report(Y_test, Y_pred_lr, target_names=['Real', 'Fake']))\n",
    "\n",
    "cm_lr = confusion_matrix(Y_test, Y_pred_lr)\n",
    "plt.figure(figsize=(8, 6))\n",
    "sns.heatmap(cm_lr, annot=True, fmt='d', cmap='Blues', xticklabels=['Real', 'Fake'], yticklabels=['Real', 'Fake'])\n",
    "plt.title('Confusion Matrix: Logistic Regression', fontsize=16, weight='bold')\n",
    "plt.xlabel('Predicted Label')\n",
    "plt.ylabel('True Label')\n",
    "plt.show()\n",
    "\n",
    "# --- Display Structured Explanation ---\n",
    "display_structured_report(Y_test, Y_pred_lr, 'Logistic Regression')"
   ]
  },
  {
   "cell_type": "markdown",
   "metadata": {},
   "source": [
    "### Step 8: Model Training & Evaluation (Part B - Random Forest Classifier)\n",
    "\n",
    "Next, we train a `RandomForestClassifier`. This is a powerful ensemble model that builds multiple decision trees and merges them together to get a more accurate and stable prediction. It is often a strong performer for text classification tasks."
   ]
  },
  {
   "cell_type": "code",
   "execution_count": 7,
   "metadata": {},
   "outputs": [
    {
     "name": "stdout",
     "output_type": "stream",
     "text": [
      "--- Training Advanced Model: Random Forest Classifier ---\n",
      "Random Forest training complete.\n",
      "\n",
      "--- Evaluating Random Forest ---\n",
      "Model Accuracy: 99.76%\n",
      "\n",
      "Classification Report:\n",
      "              precision    recall  f1-score   support\n",
      "\n",
      "        Real       1.00      1.00      1.00      4284\n",
      "        Fake       1.00      1.00      1.00      4696\n",
      "\n",
      "    accuracy                           1.00      8980\n",
      "   macro avg       1.00      1.00      1.00      8980\n",
      "weighted avg       1.00      1.00      1.00      8980\n",
      "\n"
     ]
    },
    {
     "data": {
      "image/png": "[encoded data removed]",
      "text/plain": [
       "<Figure size 800x600 with 2 Axes>"
      ]
     },
     "metadata": {},
     "output_type": "display_data"
    },
    {
     "name": "stdout",
     "output_type": "stream",
     "text": [
      "Interpretation of Random Forest Results:\n"
     ]
    },
    {
     "data": {
      "text/html": [
       "<style type=\"text/css\">\n",
       "#T_f7717 th {\n",
       "  text-align: left;\n",
       "}\n",
       "#T_f7717_row0_col0, #T_f7717_row0_col1, #T_f7717_row1_col0, #T_f7717_row1_col1, #T_f7717_row2_col0, #T_f7717_row2_col1, #T_f7717_row3_col0, #T_f7717_row3_col1, #T_f7717_row4_col0, #T_f7717_row4_col1, #T_f7717_row5_col0, #T_f7717_row5_col1, #T_f7717_row6_col0, #T_f7717_row6_col1 {\n",
       "  text-align: left;\n",
       "}\n",
       "</style>\n",
       "<table id=\"T_f7717\">\n",
       "  <thead>\n",
       "    <tr>\n",
       "      <th id=\"T_f7717_level0_col0\" class=\"col_heading level0 col0\" >Metric</th>\n",
       "      <th id=\"T_f7717_level0_col1\" class=\"col_heading level0 col1\" >Description</th>\n",
       "    </tr>\n",
       "  </thead>\n",
       "  <tbody>\n",
       "    <tr>\n",
       "      <td id=\"T_f7717_row0_col0\" class=\"data row0 col0\" >Overall Accuracy</td>\n",
       "      <td id=\"T_f7717_row0_col1\" class=\"data row0 col1\" >The model correctly classified <b>99.76%</b> of all articles.</td>\n",
       "    </tr>\n",
       "    <tr>\n",
       "      <td id=\"T_f7717_row1_col0\" class=\"data row1 col0\" >True Negatives (TN)</td>\n",
       "      <td id=\"T_f7717_row1_col1\" class=\"data row1 col1\" >Correctly identified <b>4271</b> articles as 'Real'.</td>\n",
       "    </tr>\n",
       "    <tr>\n",
       "      <td id=\"T_f7717_row2_col0\" class=\"data row2 col0\" >True Positives (TP)</td>\n",
       "      <td id=\"T_f7717_row2_col1\" class=\"data row2 col1\" >Correctly identified <b>4687</b> articles as 'Fake'.</td>\n",
       "    </tr>\n",
       "    <tr>\n",
       "      <td id=\"T_f7717_row3_col0\" class=\"data row3 col0\" >False Positives (FP) - Type I Error</td>\n",
       "      <td id=\"T_f7717_row3_col1\" class=\"data row3 col1\" >Incorrectly labeled <b>13</b> 'Real' articles as 'Fake'.</td>\n",
       "    </tr>\n",
       "    <tr>\n",
       "      <td id=\"T_f7717_row4_col0\" class=\"data row4 col0\" >False Negatives (FN) - Type II Error</td>\n",
       "      <td id=\"T_f7717_row4_col1\" class=\"data row4 col1\" >Missed <b>9</b> 'Fake' articles, labeling them as 'Real'.</td>\n",
       "    </tr>\n",
       "    <tr>\n",
       "      <td id=\"T_f7717_row5_col0\" class=\"data row5 col0\" >Fake News Precision</td>\n",
       "      <td id=\"T_f7717_row5_col1\" class=\"data row5 col1\" >When the model predicts 'Fake', it is correct <b>99.72%</b> of the time.</td>\n",
       "    </tr>\n",
       "    <tr>\n",
       "      <td id=\"T_f7717_row6_col0\" class=\"data row6 col0\" >Fake News Recall</td>\n",
       "      <td id=\"T_f7717_row6_col1\" class=\"data row6 col1\" >The model found <b>99.81%</b> of all actual 'Fake' articles.</td>\n",
       "    </tr>\n",
       "  </tbody>\n",
       "</table>\n"
      ],
      "text/plain": [
       "<pandas.io.formats.style.Styler at 0x2d226336910>"
      ]
     },
     "metadata": {},
     "output_type": "display_data"
    }
   ],
   "source": [
    "print(\"--- Training Advanced Model: Random Forest Classifier ---\")\n",
    "rf_model = RandomForestClassifier(n_estimators=100, random_state=42)\n",
    "rf_model.fit(X_train, Y_train)\n",
    "print(\"Random Forest training complete.\")\n",
    "\n",
    "# --- Evaluation ---\n",
    "print(\"\\n--- Evaluating Random Forest ---\")\n",
    "Y_pred_rf = rf_model.predict(X_test)\n",
    "accuracy_rf = accuracy_score(Y_test, Y_pred_rf)\n",
    "print(f\"Model Accuracy: {accuracy_rf:.2%}\")\n",
    "\n",
    "print(\"\\nClassification Report:\")\n",
    "print(classification_report(Y_test, Y_pred_rf, target_names=['Real', 'Fake']))\n",
    "\n",
    "cm_rf = confusion_matrix(Y_test, Y_pred_rf)\n",
    "plt.figure(figsize=(8, 6))\n",
    "sns.heatmap(cm_rf, annot=True, fmt='d', cmap='Oranges', xticklabels=['Real', 'Fake'], yticklabels=['Real', 'Fake'])\n",
    "plt.title('Confusion Matrix: Random Forest', fontsize=16, weight='bold')\n",
    "plt.xlabel('Predicted Label')\n",
    "plt.ylabel('True Label')\n",
    "plt.show()\n",
    "\n",
    "# --- Display Structured Explanation ---\n",
    "display_structured_report(Y_test, Y_pred_rf, 'Random Forest')"
   ]
  },
  {
   "cell_type": "markdown",
   "metadata": {},
   "source": [
    "### Step 9: Model Comparison\n",
    "\n",
    "To make a final decision, we directly compare the performance metrics of both models. The bar chart below visualizes the accuracy, precision, recall, and F1-score for each classifier. This provides a clear, quantitative basis for selecting the superior model."
   ]
  },
  {
   "cell_type": "code",
   "execution_count": 8,
   "metadata": {},
   "outputs": [
    {
     "name": "stdout",
     "output_type": "stream",
     "text": [
      "--- Comparative Performance Metrics ---\n"
     ]
    },
    {
     "data": {
      "text/html": [
       "<div>\n",
       "<style scoped>\n",
       "    .dataframe tbody tr th:only-of-type {\n",
       "        vertical-align: middle;\n",
       "    }\n",
       "\n",
       "    .dataframe tbody tr th {\n",
       "        vertical-align: top;\n",
       "    }\n",
       "\n",
       "    .dataframe thead th {\n",
       "        text-align: right;\n",
       "    }\n",
       "</style>\n",
       "<table border=\"1\" class=\"dataframe\">\n",
       "  <thead>\n",
       "    <tr style=\"text-align: right;\">\n",
       "      <th></th>\n",
       "      <th>Precision</th>\n",
       "      <th>Recall</th>\n",
       "      <th>F1-Score</th>\n",
       "      <th>Accuracy</th>\n",
       "    </tr>\n",
       "  </thead>\n",
       "  <tbody>\n",
       "    <tr>\n",
       "      <th>Logistic Regression</th>\n",
       "      <td>0.987753</td>\n",
       "      <td>0.987751</td>\n",
       "      <td>0.987751</td>\n",
       "      <td>0.987751</td>\n",
       "    </tr>\n",
       "    <tr>\n",
       "      <th>Random Forest</th>\n",
       "      <td>0.997550</td>\n",
       "      <td>0.997550</td>\n",
       "      <td>0.997550</td>\n",
       "      <td>0.997550</td>\n",
       "    </tr>\n",
       "  </tbody>\n",
       "</table>\n",
       "</div>"
      ],
      "text/plain": [
       "                     Precision    Recall  F1-Score  Accuracy\n",
       "Logistic Regression   0.987753  0.987751  0.987751  0.987751\n",
       "Random Forest         0.997550  0.997550  0.997550  0.997550"
      ]
     },
     "metadata": {},
     "output_type": "display_data"
    },
    {
     "data": {
      "image/png": "[encoded data removed]",
      "text/plain": [
       "<Figure size 1400x700 with 1 Axes>"
      ]
     },
     "metadata": {},
     "output_type": "display_data"
    }
   ],
   "source": [
    "# --- Storing metrics for comparison ---\n",
    "metrics = {}\n",
    "metrics['Logistic Regression'] = precision_recall_fscore_support(Y_test, Y_pred_lr, average='weighted')\n",
    "metrics['Random Forest'] = precision_recall_fscore_support(Y_test, Y_pred_rf, average='weighted')\n",
    "\n",
    "df_metrics = pd.DataFrame.from_dict(metrics, orient='index', columns=['Precision', 'Recall', 'F1-Score', 'Support'])\n",
    "df_metrics['Accuracy'] = [accuracy_lr, accuracy_rf]\n",
    "df_metrics.drop(columns=['Support'], inplace=True)\n",
    "\n",
    "print(\"--- Comparative Performance Metrics ---\")\n",
    "display(df_metrics)\n",
    "\n",
    "# --- Visualization of Comparison ---\n",
    "df_metrics.plot(kind='bar', figsize=(14, 7), colormap='viridis')\n",
    "plt.title('Model Performance Comparison', fontsize=16, weight='bold')\n",
    "plt.ylabel('Score', fontsize=12)\n",
    "plt.xlabel('Classifier', fontsize=12)\n",
    "plt.xticks(rotation=0)\n",
    "plt.legend(title='Metrics')\n",
    "plt.ylim(0.9, 1.01) # Adjust ylim to better visualize the top-end performance\n",
    "plt.grid(axis='y', linestyle='--')\n",
    "plt.show()"
   ]
  },
  {
   "cell_type": "markdown",
   "metadata": {},
   "source": [
    "#### Dynamic Analysis of Comparison\n",
    "\n",
    "The following summary programmatically analyzes the performance table and plot to provide a clear, data-driven explanation of the results."
   ]
  },
  {
   "cell_type": "code",
   "execution_count": 9,
   "metadata": {},
   "outputs": [
    {
     "data": {
      "text/html": [
       "<b>Analysis of Model Performance:</b>\n",
       "<ul><li><b>Overall Accuracy:</b> The <b>Random Forest</b> model achieved the highest accuracy, indicating it was the best overall performer in correctly classifying articles.</li><li><b>Precision:</b> The <b>Random Forest</b> model was the most precise. This means that when it predicted an article was 'Fake', it was most likely to be correct.</li><li><b>Recall:</b> The <b>Random Forest</b> model had the best recall, showing it was most effective at identifying the highest percentage of all actual 'Fake' news articles in the dataset.</li><li><b>F1-Score:</b> The <b>Random Forest</b> model scored highest on the F1-score, which represents the best balance between Precision and Recall.</li></ul>"
      ],
      "text/plain": [
       "<IPython.core.display.HTML object>"
      ]
     },
     "metadata": {},
     "output_type": "display_data"
    }
   ],
   "source": [
    "def generate_comparison_analysis(metrics_df):\n",
    "    \"\"\"Generates a dynamic text analysis of the model comparison results.\"\"\"\n",
    "    best_accuracy_model = metrics_df['Accuracy'].idxmax()\n",
    "    best_precision_model = metrics_df['Precision'].idxmax()\n",
    "    best_recall_model = metrics_df['Recall'].idxmax()\n",
    "    best_f1_model = metrics_df['F1-Score'].idxmax()\n",
    "\n",
    "    analysis = \"<b>Analysis of Model Performance:</b>\\n\"\n",
    "    analysis += \"<ul>\"\n",
    "    analysis += f\"<li><b>Overall Accuracy:</b> The <b>{best_accuracy_model}</b> model achieved the highest accuracy, indicating it was the best overall performer in correctly classifying articles.</li>\"\n",
    "    analysis += f\"<li><b>Precision:</b> The <b>{best_precision_model}</b> model was the most precise. This means that when it predicted an article was 'Fake', it was most likely to be correct.</li>\"\n",
    "    analysis += f\"<li><b>Recall:</b> The <b>{best_recall_model}</b> model had the best recall, showing it was most effective at identifying the highest percentage of all actual 'Fake' news articles in the dataset.</li>\"\n",
    "    analysis += f\"<li><b>F1-Score:</b> The <b>{best_f1_model}</b> model scored highest on the F1-score, which represents the best balance between Precision and Recall.</li>\"\n",
    "    analysis += \"</ul>\"\n",
    "    \n",
    "    display(HTML(analysis))\n",
    "\n",
    "generate_comparison_analysis(df_metrics)"
   ]
  },
  {
   "cell_type": "markdown",
   "metadata": {},
   "source": [
    "### Step 10: Live Prediction with Best Model\n",
    "\n",
    "Here, we programmatically select the best-performing model based on accuracy and use it for live predictions. This ensures that we are always using the most effective classifier developed in this notebook."
   ]
  },
  {
   "cell_type": "code",
   "execution_count": 10,
   "metadata": {},
   "outputs": [
    {
     "name": "stdout",
     "output_type": "stream",
     "text": [
      "The best performing model is 'Random Forest'. It will be used for live predictions.\n",
      "\n",
      "--- Testing Prediction Function with Final Model ---\n",
      "\n",
      "Sample News: 'You won't believe what this celebrity did, it will shock you! Click here to find out the secret that doctors don't want you to know.'\n",
      "Prediction: FAKE (Confidence: 97.00%)\n",
      "\n",
      "Sample News: 'The Federal Reserve announced on Wednesday that it would maintain current interest rates, citing steady economic growth and controlled inflation.'\n",
      "Prediction: FAKE (Confidence: 56.00%)\n"
     ]
    }
   ],
   "source": [
    "# --- Dynamic Model Selection ---\n",
    "if accuracy_rf > accuracy_lr:\n",
    "    final_model = rf_model\n",
    "    final_model_name = 'Random Forest'\n",
    "else:\n",
    "    final_model = lr_model\n",
    "    final_model_name = 'Logistic Regression'\n",
    "\n",
    "print(f\"The best performing model is '{final_model_name}'. It will be used for live predictions.\")\n",
    "\n",
    "def predict_news(text, model, vectorizer):\n",
    "    \"\"\"Predicts if a new piece of text is real or fake using the final model.\"\"\"\n",
    "    processed_text = preprocess_text(text)\n",
    "    vectorized_text = vectorizer.transform([processed_text])\n",
    "    prediction = model.predict(vectorized_text)\n",
    "    probability = model.predict_proba(vectorized_text)[0]\n",
    "    confidence_text = f\"(Confidence: {np.max(probability):.2%})\"\n",
    "\n",
    "    if prediction[0] == 0:\n",
    "        return f\"Prediction: REAL {confidence_text}\"\n",
    "    else:\n",
    "        return f\"Prediction: FAKE {confidence_text}\"\n",
    "\n",
    "print(\"\\n--- Testing Prediction Function with Final Model ---\")\n",
    "\n",
    "# Example 1: A headline designed to sound like potential fake news\n",
    "sample_fake_news = \"You won't believe what this celebrity did, it will shock you! Click here to find out the secret that doctors don't want you to know.\"\n",
    "print(f\"\\nSample News: '{sample_fake_news}'\")\n",
    "prediction_result = predict_news(sample_fake_news, final_model, tfidf_vectorizer)\n",
    "print(prediction_result)\n",
    "\n",
    "# Example 2: A headline designed to sound like a legitimate news report\n",
    "sample_real_news = \"The Federal Reserve announced on Wednesday that it would maintain current interest rates, citing steady economic growth and controlled inflation.\"\n",
    "print(f\"\\nSample News: '{sample_real_news}'\")\n",
    "prediction_result_2 = predict_news(sample_real_news, final_model, tfidf_vectorizer)\n",
    "print(prediction_result_2)"
   ]
  },
  {
   "cell_type": "markdown",
   "metadata": {},
   "source": [
    "### Step 11: Final Conclusion"
   ]
  },
  {
   "cell_type": "code",
   "execution_count": 12,
   "metadata": {},
   "outputs": [
    {
     "data": {
      "text/html": [
       "Project Summary and Conclusion<br><br>This project successfully developed and evaluated two distinct machine learning models for the task of fake news detection. A baseline `Logistic Regression` model was compared against a `Random Forest` ensemble model.<br><br>After a rigorous evaluation process, the **`Random Forest`** model was identified as the superior performer. It achieved an overall accuracy of **99.76%** on the unseen test data, demonstrating a strong capability to distinguish between real and fake news articles. The comprehensive analysis, including confusion matrices and classification reports, confirmed its effectiveness across all key metrics, making it the recommended model for this application."
      ],
      "text/plain": [
       "<IPython.core.display.HTML object>"
      ]
     },
     "metadata": {},
     "output_type": "display_data"
    }
   ],
   "source": [
    "def generate_conclusion():\n",
    "    \"\"\"Generates a dynamic conclusion based on the model comparison results.\"\"\"\n",
    "    best_model_name = df_metrics['Accuracy'].idxmax()\n",
    "    best_accuracy = df_metrics['Accuracy'].max()\n",
    "    \n",
    "    conclusion = \"Project Summary and Conclusion\\n\\n\"\n",
    "    conclusion += \"This project successfully developed and evaluated two distinct machine learning models for the task of fake news detection. \"\n",
    "    conclusion += \"A baseline `Logistic Regression` model was compared against a `Random Forest` ensemble model.\\n\\n\"\n",
    "    conclusion += \"After a rigorous evaluation process, the **`\" + best_model_name + \"`** model was identified as the superior performer. \"\n",
    "    conclusion += f\"It achieved an overall accuracy of **{best_accuracy:.2%}** on the unseen test data, demonstrating a strong capability to distinguish between real and fake news articles. \"\n",
    "    conclusion += \"The comprehensive analysis, including confusion matrices and classification reports, confirmed its effectiveness across all key metrics, making it the recommended model for this application.\"\n",
    "    \n",
    "    # Using display to render markdown in Jupyter\n",
    "    display(HTML(conclusion.replace('\\n', '<br>')))\n",
    "\n",
    "generate_conclusion()"
   ]
  }
 ],
 "metadata": {
  "kernelspec": {
   "display_name": "Python 3 (ipykernel)",
   "language": "python",
   "name": "python3"
  },
  "language_info": {
   "codemirror_mode": {
    "name": "ipython",
    "version": 3
   },
   "file_extension": ".py",
   "mimetype": "text/x-python",
   "name": "python",
   "nbconvert_exporter": "python",
   "pygments_lexer": "ipython3",
   "version": "3.11.2"
  }
 },
 "nbformat": 4,
 "nbformat_minor": 4
}
